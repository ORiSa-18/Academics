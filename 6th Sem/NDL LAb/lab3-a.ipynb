{
 "cells": [
  {
   "cell_type": "markdown",
   "metadata": {},
   "source": [
    "## Implement Gate Operations"
   ]
  },
  {
   "cell_type": "markdown",
   "metadata": {},
   "source": [
    "Implement Perceptron Algorithm for AND Logic Gate with 2-bit binary values (AND,OR,XOR,NAND,NOR,XNOR,NOT)"
   ]
  },
  {
   "cell_type": "code",
   "execution_count": 1,
   "metadata": {},
   "outputs": [],
   "source": [
    "w1,w2,b = 0.5,0.5,-1\n",
    "def activate(x):\n",
    "    return 1 if x>=0 else 0"
   ]
  },
  {
   "cell_type": "code",
   "execution_count": 2,
   "metadata": {},
   "outputs": [],
   "source": [
    "def train_perceptron(inputs,desired_outputs,learning_rate,epochs):\n",
    "    global w1,w2,b\n",
    "    for epoch in range(epochs):\n",
    "        total_error=0\n",
    "        for i in range(len(inputs)):\n",
    "            a,B = inputs[i]\n",
    "            target_output = desired_outputs[i]\n",
    "            output = activate(w1*a+w2*B+b)\n",
    "            error = target_output - output\n",
    "            w1 += learning_rate*error*a\n",
    "            w2 += learning_rate*error*B\n",
    "            b+= learning_rate*error\n",
    "            total_error+=abs(error)\n",
    "            if error==0:\n",
    "                break"
   ]
  },
  {
   "cell_type": "code",
   "execution_count": 3,
   "metadata": {},
   "outputs": [
    {
     "name": "stdout",
     "output_type": "stream",
     "text": [
      "input(0,0) Output: 0\n",
      "input(0,1) Output: 0\n",
      "input(1,0) Output: 0\n",
      "input(1,1) Output: 1\n"
     ]
    }
   ],
   "source": [
    "inputs = [(0,0),(0,1),(1,0),(1,1)]\n",
    "desired_outputs = [0,0,0,1]\n",
    "learning_rate = 0.1\n",
    "epochs = 100\n",
    "\n",
    "train_perceptron(inputs,desired_outputs,learning_rate,epochs)\n",
    "\n",
    "for i in range(len(inputs)):\n",
    "    a,B=inputs[i]\n",
    "    output = activate(w1*a+w2*B+b)\n",
    "    print(f\"input({a},{B}) Output: {output}\")"
   ]
  }
 ],
 "metadata": {
  "kernelspec": {
   "display_name": "Python 3",
   "language": "python",
   "name": "python3"
  },
  "language_info": {
   "codemirror_mode": {
    "name": "ipython",
    "version": 3
   },
   "file_extension": ".py",
   "mimetype": "text/x-python",
   "name": "python",
   "nbconvert_exporter": "python",
   "pygments_lexer": "ipython3",
   "version": "3.12.0"
  }
 },
 "nbformat": 4,
 "nbformat_minor": 2
}
