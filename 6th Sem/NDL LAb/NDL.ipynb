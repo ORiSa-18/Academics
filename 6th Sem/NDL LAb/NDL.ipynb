{
  "nbformat": 4,
  "nbformat_minor": 0,
  "metadata": {
    "colab": {
      "provenance": []
    },
    "kernelspec": {
      "name": "python3",
      "display_name": "Python 3"
    },
    "language_info": {
      "name": "python"
    }
  },
  "cells": [
    {
      "cell_type": "markdown",
      "source": [
        "Error Correction (Perceptron Learning)"
      ],
      "metadata": {
        "id": "aUzcOCy9TWmG"
      }
    },
    {
      "cell_type": "code",
      "source": [
        "import numpy as np"
      ],
      "metadata": {
        "id": "0Zp2UCaGTjWm"
      },
      "execution_count": 1,
      "outputs": []
    },
    {
      "cell_type": "code",
      "source": [
        "X = np.array([[0,0],[0,1],[1,0],[1,1]])\n",
        "Y = np.array([0,0,0,1])\n",
        "w = np.zeros(2)\n",
        "b = 0\n",
        "lr = 0.1\n",
        "epochs = 100\n",
        "def f(x):\n",
        "  return 1 if x>=0.5 else 0\n",
        "\n",
        "for _ in range(epochs):\n",
        "  for x,y in zip(X,Y):\n",
        "    y_pred = np.dot(x,w) * b\n",
        "    error = y-y_pred\n",
        "    w += lr * error * x\n",
        "    b += lr * error\n",
        "print(\"Weights:\", w)\n",
        "print(\"Bias\",b)\n",
        "print(\"Output:\\n\")\n",
        "\n",
        "for x in X:\n",
        "  print(x,\"->\",f(np.dot(x,w)*b))"
      ],
      "metadata": {
        "colab": {
          "base_uri": "https://localhost:8080/"
        },
        "id": "6U_MJ7rwTlpp",
        "outputId": "7de2eb9c-34be-4c6c-848d-441ac3a3ccca"
      },
      "execution_count": 22,
      "outputs": [
        {
          "output_type": "stream",
          "name": "stdout",
          "text": [
            "Weights: [3.11810803 2.79318588]\n",
            "Bias 0.1269435860514553\n",
            "Output:\n",
            "\n",
            "[0 0] -> 0\n",
            "[0 1] -> 0\n",
            "[1 0] -> 0\n",
            "[1 1] -> 1\n"
          ]
        }
      ]
    },
    {
      "cell_type": "markdown",
      "source": [
        "Hebbian Learning"
      ],
      "metadata": {
        "id": "a9w-DKFqVgGr"
      }
    },
    {
      "cell_type": "code",
      "source": [
        "X = np.array([[2,1],[1,-1],[-2,2]])\n",
        "Y = np.array([1,-1,1])\n",
        "\n",
        "# Hebbian\n",
        "w_hebb = sum(x*y for x,y in zip(X,Y))\n",
        "\n",
        "#covarience\n",
        "Xc = X - np.mean(X,0)\n",
        "Yc = Y - np.mean(Y,0)\n",
        "w_cov = sum(x*y for x,y in zip(X,Y))\n",
        "\n",
        "#visualise\n",
        "import matplotlib.pyplot as plt\n",
        "plt.bar(['Hebb_x','Hebb_y'], w_hebb, label = 'Hebb')\n",
        "plt.bar(['Cov_x','Cov_y'],w_cov, alpha = 0.5, label = 'Covarience')\n",
        "plt.legend()\n",
        "plt.show"
      ],
      "metadata": {
        "colab": {
          "base_uri": "https://localhost:8080/",
          "height": 600
        },
        "id": "qiet1-OeVfuR",
        "outputId": "4488e066-932c-47fe-813f-14eaaa36e480"
      },
      "execution_count": 13,
      "outputs": [
        {
          "output_type": "execute_result",
          "data": {
            "text/plain": [
              "<function matplotlib.pyplot.show(close=None, block=None)>"
            ],
            "text/html": [
              "<div style=\"max-width:800px; border: 1px solid var(--colab-border-color);\"><style>\n",
              "      pre.function-repr-contents {\n",
              "        overflow-x: auto;\n",
              "        padding: 8px 12px;\n",
              "        max-height: 500px;\n",
              "      }\n",
              "\n",
              "      pre.function-repr-contents.function-repr-contents-collapsed {\n",
              "        cursor: pointer;\n",
              "        max-height: 100px;\n",
              "      }\n",
              "    </style>\n",
              "    <pre style=\"white-space: initial; background:\n",
              "         var(--colab-secondary-surface-color); padding: 8px 12px;\n",
              "         border-bottom: 1px solid var(--colab-border-color);\"><b>matplotlib.pyplot.show</b><br/>def show(*args, **kwargs) -&gt; None</pre><pre class=\"function-repr-contents function-repr-contents-collapsed\" style=\"\"><a class=\"filepath\" style=\"display:none\" href=\"#\">/usr/local/lib/python3.11/dist-packages/matplotlib/pyplot.py</a>Display all open figures.\n",
              "\n",
              "Parameters\n",
              "----------\n",
              "block : bool, optional\n",
              "    Whether to wait for all figures to be closed before returning.\n",
              "\n",
              "    If `True` block and run the GUI main loop until all figure windows\n",
              "    are closed.\n",
              "\n",
              "    If `False` ensure that all figure windows are displayed and return\n",
              "    immediately.  In this case, you are responsible for ensuring\n",
              "    that the event loop is running to have responsive figures.\n",
              "\n",
              "    Defaults to True in non-interactive mode and to False in interactive\n",
              "    mode (see `.pyplot.isinteractive`).\n",
              "\n",
              "See Also\n",
              "--------\n",
              "ion : Enable interactive mode, which shows / updates the figure after\n",
              "      every plotting command, so that calling ``show()`` is not necessary.\n",
              "ioff : Disable interactive mode.\n",
              "savefig : Save the figure to an image file instead of showing it on screen.\n",
              "\n",
              "Notes\n",
              "-----\n",
              "**Saving figures to file and showing a window at the same time**\n",
              "\n",
              "If you want an image file as well as a user interface window, use\n",
              "`.pyplot.savefig` before `.pyplot.show`. At the end of (a blocking)\n",
              "``show()`` the figure is closed and thus unregistered from pyplot. Calling\n",
              "`.pyplot.savefig` afterwards would save a new and thus empty figure. This\n",
              "limitation of command order does not apply if the show is non-blocking or\n",
              "if you keep a reference to the figure and use `.Figure.savefig`.\n",
              "\n",
              "**Auto-show in jupyter notebooks**\n",
              "\n",
              "The jupyter backends (activated via ``%matplotlib inline``,\n",
              "``%matplotlib notebook``, or ``%matplotlib widget``), call ``show()`` at\n",
              "the end of every cell by default. Thus, you usually don&#x27;t have to call it\n",
              "explicitly there.</pre>\n",
              "      <script>\n",
              "      if (google.colab.kernel.accessAllowed && google.colab.files && google.colab.files.view) {\n",
              "        for (const element of document.querySelectorAll('.filepath')) {\n",
              "          element.style.display = 'block'\n",
              "          element.onclick = (event) => {\n",
              "            event.preventDefault();\n",
              "            event.stopPropagation();\n",
              "            google.colab.files.view(element.textContent, 569);\n",
              "          };\n",
              "        }\n",
              "      }\n",
              "      for (const element of document.querySelectorAll('.function-repr-contents')) {\n",
              "        element.onclick = (event) => {\n",
              "          event.preventDefault();\n",
              "          event.stopPropagation();\n",
              "          element.classList.toggle('function-repr-contents-collapsed');\n",
              "        };\n",
              "      }\n",
              "      </script>\n",
              "      </div>"
            ]
          },
          "metadata": {},
          "execution_count": 13
        },
        {
          "output_type": "display_data",
          "data": {
            "text/plain": [
              "<Figure size 640x480 with 1 Axes>"
            ],
            "image/png": "[encoded data removed]"
          },
          "metadata": {}
        }
      ]
    },
    {
      "cell_type": "markdown",
      "source": [
        "Gate operations using Single Layer Perceptron"
      ],
      "metadata": {
        "id": "7gdD4vH8WwWB"
      }
    },
    {
      "cell_type": "code",
      "source": [
        "X = np.array([[0,0],[0,1],[1,0],[1,1]])\n",
        "Y_and = np.array([0,0,0,1])\n",
        "Y_or = np.array([0,1,1,1])\n",
        "\n",
        "w_and,w_or = np.zeros(2),np.zeros(2)\n",
        "b_and, b_or = 0,0\n",
        "epochs = 100\n",
        "lr = 0.1\n",
        "\n",
        "def f(x):\n",
        "  return 1 if x>=0.5 else 0\n",
        "\n",
        "#AND\n",
        "for _ in range(epochs):\n",
        "  for x,y in zip(X,Y_and):\n",
        "    y_pred = np.dot(w_and,x) + b_and\n",
        "    error = y - f(y_pred)\n",
        "    w_and += error * lr * x\n",
        "    b_and += error * lr\n",
        "\n",
        "#OR\n",
        "for _ in range(epochs):\n",
        "  for x,y in zip(X,Y_or):\n",
        "    y_pred = np.dot(w_or,x) + b_or\n",
        "    error = y - f(y_pred)\n",
        "    w_or += error * lr * x\n",
        "    b_or += error * lr\n",
        "\n",
        "print(\"AND Gate\")\n",
        "for x in X:\n",
        "  print(x,\"->\",f(np.dot(w_and,x)+b_and))\n",
        "\n",
        "print(\"\\n OR Gate\")\n",
        "for x in X:\n",
        "  print(x,\"->\",f(np.dot(w_or,x)+b_or))"
      ],
      "metadata": {
        "colab": {
          "base_uri": "https://localhost:8080/"
        },
        "id": "5oFy0jIuW0Hg",
        "outputId": "3e70b936-918b-4946-ab5b-e93b00c2405f"
      },
      "execution_count": 28,
      "outputs": [
        {
          "output_type": "stream",
          "name": "stdout",
          "text": [
            "AND Gate\n",
            "[0 0] -> 0\n",
            "[0 1] -> 0\n",
            "[1 0] -> 0\n",
            "[1 1] -> 1\n",
            "\n",
            " OR Gate\n",
            "[0 0] -> 0\n",
            "[0 1] -> 1\n",
            "[1 0] -> 1\n",
            "[1 1] -> 1\n"
          ]
        }
      ]
    },
    {
      "cell_type": "markdown",
      "source": [
        "XOR with MLP"
      ],
      "metadata": {
        "id": "GW60wWe_bvMO"
      }
    },
    {
      "cell_type": "code",
      "source": [
        "import torch, torch.nn as nn\n",
        "\n",
        "X = torch.tensor([[0.,0.],[0.,1.],[1.,0.],[1.,1.]])\n",
        "Y = torch.tensor([0.,1.,1.,0.])\n",
        "\n",
        "class XOR(nn.Module):\n",
        "  def __init__(self):\n",
        "    super().__init__()\n",
        "    self.net = nn.Sequential(nn.Linear(2,2), nn.Sigmoid(), nn.Linear(2,1), nn.Sigmoid())\n",
        "  def forward(self,x):\n",
        "    return self.net(x)\n",
        "\n",
        "print(\"XOR MLP outputs with different learning rates:\")\n",
        "for lr in [0.01,0.1,1]:\n",
        "  model = XOR()\n",
        "  opt = torch.optim.SGD(model.parameters(),lr=lr)\n",
        "  for _ in range(10000):\n",
        "    loss = nn.MSELoss()(model(X),Y)\n",
        "    opt.zero_grad()\n",
        "    loss.backward()\n",
        "    opt.step()\n",
        "  print(f\"LR={lr}:\", model(X).detach().round().squeeze().numpy())"
      ],
      "metadata": {
        "colab": {
          "base_uri": "https://localhost:8080/"
        },
        "id": "_qReMK3XbxIQ",
        "outputId": "eb2a7595-c511-452c-ca0d-e460b18ea63a"
      },
      "execution_count": 30,
      "outputs": [
        {
          "output_type": "stream",
          "name": "stdout",
          "text": [
            "XOR MLP outputs with different learning rates:\n"
          ]
        },
        {
          "output_type": "stream",
          "name": "stderr",
          "text": [
            "/usr/local/lib/python3.11/dist-packages/torch/nn/modules/loss.py:610: UserWarning: Using a target size (torch.Size([4])) that is different to the input size (torch.Size([4, 1])). This will likely lead to incorrect results due to broadcasting. Please ensure they have the same size.\n",
            "  return F.mse_loss(input, target, reduction=self.reduction)\n"
          ]
        },
        {
          "output_type": "stream",
          "name": "stdout",
          "text": [
            "LR=0.01: [1. 0. 1. 0.]\n",
            "LR=0.1: [0. 0. 1. 1.]\n",
            "LR=1: [1. 0. 0. 1.]\n"
          ]
        }
      ]
    },
    {
      "cell_type": "markdown",
      "source": [
        "Hebbian PCA"
      ],
      "metadata": {
        "id": "XEFNnzQGe5_I"
      }
    },
    {
      "cell_type": "code",
      "source": [
        "import numpy as np\n",
        "\n",
        "X = np.random.randn(100,2)\n",
        "w = np.random.rand(2)\n",
        "w /= np.linalg.norm(w)\n",
        "lr = 0.01\n",
        "\n",
        "for x in X:\n",
        "  y = np.dot(w,x)\n",
        "  w += lr * y * (x - y*w)\n",
        "\n",
        "w /= np.linalg.norm(w)\n",
        "print(\"Principle Component (normalised):\",w)"
      ],
      "metadata": {
        "colab": {
          "base_uri": "https://localhost:8080/"
        },
        "id": "Ov6q714ve8z6",
        "outputId": "2560a4d9-216e-406f-e33e-13eed5badd30"
      },
      "execution_count": 31,
      "outputs": [
        {
          "output_type": "stream",
          "name": "stdout",
          "text": [
            "Principle Component (normalised): [0.81964067 0.57287798]\n"
          ]
        }
      ]
    },
    {
      "cell_type": "markdown",
      "source": [
        "Self Organising Map"
      ],
      "metadata": {
        "id": "k0UlOuYfftDP"
      }
    },
    {
      "cell_type": "code",
      "source": [
        "import numpy as np\n",
        "import matplotlib.pyplot as plt\n",
        "\n",
        "X = np.random.rand(100,2)\n",
        "W = np.random.rand(5,2)\n",
        "lr = 0.1\n",
        "\n",
        "for x in X:\n",
        "  i = np.argmin(np.linalg.norm(W-x, axis=1))\n",
        "  W[i] += lr * (x-W[i])\n",
        "\n",
        "plt.scatter(X[:,0], X[:,1], label = 'Data')\n",
        "plt.scatter(W[:,0], W[:,1], c='red', label = 'Neurons')\n",
        "plt.title(\"Self-Organising Map Neurons\")\n",
        "plt.legend()\n",
        "plt.show()"
      ],
      "metadata": {
        "colab": {
          "base_uri": "https://localhost:8080/",
          "height": 452
        },
        "id": "Dzb2QROTfvJP",
        "outputId": "e92c213b-673a-4aae-c292-6ec5390069d7"
      },
      "execution_count": 34,
      "outputs": [
        {
          "output_type": "display_data",
          "data": {
            "text/plain": [
              "<Figure size 640x480 with 1 Axes>"
            ],
            "image/png": "[encoded data removed]"
          },
          "metadata": {}
        }
      ]
    },
    {
      "cell_type": "markdown",
      "source": [
        "Recurrent Neural Network with Time"
      ],
      "metadata": {
        "id": "_KcgrHeLjjzk"
      }
    },
    {
      "cell_type": "code",
      "source": [
        "import torch, torch.nn as nn\n",
        "\n",
        "rnn = nn.RNN(input_size=1, hidden_size=5, batch_first=True)\n",
        "x = torch.randn(1,10,1)\n",
        "h0 = torch.zeros(1,1,5)\n",
        "\n",
        "out, hn = rnn(x,h0)\n",
        "print(\"RNN Output at each time step:\\n\",out.squeeze().detach().numpy())"
      ],
      "metadata": {
        "colab": {
          "base_uri": "https://localhost:8080/"
        },
        "id": "4UFtp0Aujn5H",
        "outputId": "80119d39-4171-411c-b757-d6706db4af26"
      },
      "execution_count": 36,
      "outputs": [
        {
          "output_type": "stream",
          "name": "stdout",
          "text": [
            "RNN Output at each time step:\n",
            " [[ 0.02679928  0.002402    0.1638732  -0.263225    0.18284869]\n",
            " [-0.02095381 -0.05832943  0.26592997 -0.21234292  0.05838037]\n",
            " [ 0.18181682  0.21959774  0.37424278  0.08680563  0.1417539 ]\n",
            " [ 0.3359635   0.5036382   0.48245728  0.09775998  0.04000348]\n",
            " [ 0.21809387  0.5394025   0.43078256 -0.01616778 -0.06436594]\n",
            " [ 0.12518102  0.46489623  0.319936   -0.04864011 -0.04713986]\n",
            " [ 0.2964444   0.56299037  0.40220073  0.14036675  0.02025351]\n",
            " [ 0.654695    0.8548197   0.6790423   0.52578443  0.02608685]\n",
            " [ 0.39116177  0.7895647   0.55175424  0.01829296 -0.1627301 ]\n",
            " [ 0.14099908  0.61591744  0.3667543  -0.00222769 -0.1210123 ]]\n"
          ]
        }
      ]
    },
    {
      "cell_type": "markdown",
      "source": [
        "Hopfield Network with Associative Memory"
      ],
      "metadata": {
        "id": "68Af9oj7kP8A"
      }
    },
    {
      "cell_type": "code",
      "source": [
        "import numpy as np\n",
        "\n",
        "X = np.array([1,-1,1,-1])\n",
        "W = X.T @ X\n",
        "np.fill_diagonal(W,0)\n",
        "\n",
        "test = np.array([1,1,-1,-1])\n",
        "output = np.sign(W @ test)\n",
        "\n",
        "print(\"Hopfield:\", output)"
      ],
      "metadata": {
        "colab": {
          "base_uri": "https://localhost:8080/",
          "height": 341
        },
        "id": "yvFAoaNWkTBr",
        "outputId": "ff13d091-c600-44ca-a542-7a7270927c87"
      },
      "execution_count": 37,
      "outputs": [
        {
          "output_type": "error",
          "ename": "ValueError",
          "evalue": "array must be at least 2-d",
          "traceback": [
            "\u001b[0;31m---------------------------------------------------------------------------\u001b[0m",
            "\u001b[0;31mValueError\u001b[0m                                Traceback (most recent call last)",
            "\u001b[0;32m<ipython-input-37-3040eb6604c8>\u001b[0m in \u001b[0;36m<cell line: 0>\u001b[0;34m()\u001b[0m\n\u001b[1;32m      3\u001b[0m \u001b[0mX\u001b[0m \u001b[0;34m=\u001b[0m \u001b[0mnp\u001b[0m\u001b[0;34m.\u001b[0m\u001b[0marray\u001b[0m\u001b[0;34m(\u001b[0m\u001b[0;34m[\u001b[0m\u001b[0;36m1\u001b[0m\u001b[0;34m,\u001b[0m\u001b[0;34m-\u001b[0m\u001b[0;36m1\u001b[0m\u001b[0;34m,\u001b[0m\u001b[0;36m1\u001b[0m\u001b[0;34m,\u001b[0m\u001b[0;34m-\u001b[0m\u001b[0;36m1\u001b[0m\u001b[0;34m]\u001b[0m\u001b[0;34m)\u001b[0m\u001b[0;34m\u001b[0m\u001b[0;34m\u001b[0m\u001b[0m\n\u001b[1;32m      4\u001b[0m \u001b[0mW\u001b[0m \u001b[0;34m=\u001b[0m \u001b[0mX\u001b[0m\u001b[0;34m.\u001b[0m\u001b[0mT\u001b[0m \u001b[0;34m@\u001b[0m \u001b[0mX\u001b[0m\u001b[0;34m\u001b[0m\u001b[0;34m\u001b[0m\u001b[0m\n\u001b[0;32m----> 5\u001b[0;31m \u001b[0mnp\u001b[0m\u001b[0;34m.\u001b[0m\u001b[0mfill_diagonal\u001b[0m\u001b[0;34m(\u001b[0m\u001b[0mW\u001b[0m\u001b[0;34m,\u001b[0m\u001b[0;36m0\u001b[0m\u001b[0;34m)\u001b[0m\u001b[0;34m\u001b[0m\u001b[0;34m\u001b[0m\u001b[0m\n\u001b[0m\u001b[1;32m      6\u001b[0m \u001b[0;34m\u001b[0m\u001b[0m\n\u001b[1;32m      7\u001b[0m \u001b[0mtest\u001b[0m \u001b[0;34m=\u001b[0m \u001b[0mnp\u001b[0m\u001b[0;34m.\u001b[0m\u001b[0marray\u001b[0m\u001b[0;34m(\u001b[0m\u001b[0;34m[\u001b[0m\u001b[0;36m1\u001b[0m\u001b[0;34m,\u001b[0m\u001b[0;36m1\u001b[0m\u001b[0;34m,\u001b[0m\u001b[0;34m-\u001b[0m\u001b[0;36m1\u001b[0m\u001b[0;34m,\u001b[0m\u001b[0;34m-\u001b[0m\u001b[0;36m1\u001b[0m\u001b[0;34m]\u001b[0m\u001b[0;34m)\u001b[0m\u001b[0;34m\u001b[0m\u001b[0;34m\u001b[0m\u001b[0m\n",
            "\u001b[0;32m/usr/local/lib/python3.11/dist-packages/numpy/lib/_index_tricks_impl.py\u001b[0m in \u001b[0;36mfill_diagonal\u001b[0;34m(a, val, wrap)\u001b[0m\n\u001b[1;32m    910\u001b[0m     \"\"\"\n\u001b[1;32m    911\u001b[0m     \u001b[0;32mif\u001b[0m \u001b[0ma\u001b[0m\u001b[0;34m.\u001b[0m\u001b[0mndim\u001b[0m \u001b[0;34m<\u001b[0m \u001b[0;36m2\u001b[0m\u001b[0;34m:\u001b[0m\u001b[0;34m\u001b[0m\u001b[0;34m\u001b[0m\u001b[0m\n\u001b[0;32m--> 912\u001b[0;31m         \u001b[0;32mraise\u001b[0m \u001b[0mValueError\u001b[0m\u001b[0;34m(\u001b[0m\u001b[0;34m\"array must be at least 2-d\"\u001b[0m\u001b[0;34m)\u001b[0m\u001b[0;34m\u001b[0m\u001b[0;34m\u001b[0m\u001b[0m\n\u001b[0m\u001b[1;32m    913\u001b[0m     \u001b[0mend\u001b[0m \u001b[0;34m=\u001b[0m \u001b[0;32mNone\u001b[0m\u001b[0;34m\u001b[0m\u001b[0;34m\u001b[0m\u001b[0m\n\u001b[1;32m    914\u001b[0m     \u001b[0;32mif\u001b[0m \u001b[0ma\u001b[0m\u001b[0;34m.\u001b[0m\u001b[0mndim\u001b[0m \u001b[0;34m==\u001b[0m \u001b[0;36m2\u001b[0m\u001b[0;34m:\u001b[0m\u001b[0;34m\u001b[0m\u001b[0;34m\u001b[0m\u001b[0m\n",
            "\u001b[0;31mValueError\u001b[0m: array must be at least 2-d"
          ]
        }
      ]
    },
    {
      "cell_type": "markdown",
      "source": [
        "Neural Network on Iris Dataset"
      ],
      "metadata": {
        "id": "0dzKhHHfus5L"
      }
    },
    {
      "cell_type": "code",
      "source": [
        "from sklearn.datasets import load_iris\n",
        "from sklearn.neural_network import MLPClassifier\n",
        "\n",
        "X, y = load_iris(return_X_y = True)\n",
        "clf = MLPClassifier(hidden_layer_sizes = (5,), max_iter=500)\n",
        "clf.fit(X,y)\n",
        "\n",
        "print(\"Training Accuracy\", clf.score(X,y))"
      ],
      "metadata": {
        "colab": {
          "base_uri": "https://localhost:8080/"
        },
        "id": "mikxGXtHuvUl",
        "outputId": "8756a521-0b8f-4e59-b009-55c209b53fbb"
      },
      "execution_count": 38,
      "outputs": [
        {
          "output_type": "stream",
          "name": "stdout",
          "text": [
            "Training Accuracy 0.6733333333333333\n"
          ]
        },
        {
          "output_type": "stream",
          "name": "stderr",
          "text": [
            "/usr/local/lib/python3.11/dist-packages/sklearn/neural_network/_multilayer_perceptron.py:691: ConvergenceWarning: Stochastic Optimizer: Maximum iterations (500) reached and the optimization hasn't converged yet.\n",
            "  warnings.warn(\n"
          ]
        }
      ]
    },
    {
      "cell_type": "markdown",
      "source": [
        "Optimizers: AdaGrad, RMSProp and Adam"
      ],
      "metadata": {
        "id": "3zp8qgV1vL-q"
      }
    },
    {
      "cell_type": "code",
      "source": [
        "import torch, torch.nn as nn\n",
        "from sklearn.datasets import load_iris\n",
        "\n",
        "X,y = load_iris(return_X_y=True)\n",
        "X = torch.tensor(X, dtype=torch.float32)\n",
        "y = torch.tensor(y)\n",
        "\n",
        "for opt_name in ['Adam','RMSprop','Adagrad']:\n",
        "  model = nn.Linear(4,3)\n",
        "  opt = getattr(torch.optim, opt_name)(model.parameters(), lr=0.01)\n",
        "  for _ in range(100):\n",
        "    pred = model(X)\n",
        "    loss = nn.CrossEntropyLoss()(pred,y)\n",
        "    opt.zero_grad()\n",
        "    loss.backward()\n",
        "    opt.step()\n",
        "  print(f'{opt_name} Final Loss:',loss.item())"
      ],
      "metadata": {
        "colab": {
          "base_uri": "https://localhost:8080/"
        },
        "id": "gKn1SS6hvT0m",
        "outputId": "5319e904-d354-42a3-9638-b7b2b62d9da7"
      },
      "execution_count": 41,
      "outputs": [
        {
          "output_type": "stream",
          "name": "stdout",
          "text": [
            "Adam Final Loss: 0.5654903650283813\n",
            "RMSprop Final Loss: 0.4027427136898041\n",
            "Adagrad Final Loss: 0.9814457297325134\n"
          ]
        }
      ]
    },
    {
      "cell_type": "markdown",
      "source": [
        "LSTM Cell Forward Pass"
      ],
      "metadata": {
        "id": "f7KQkEbV1W-l"
      }
    },
    {
      "cell_type": "code",
      "source": [
        "import torch\n",
        "\n",
        "x = torch.randn(1,3)\n",
        "h = torch.randn(1,5)\n",
        "c = torch.randn(1,5)\n",
        "concat = torch.cat((x,h),dim=1)\n",
        "\n",
        "Wf = torch.randn(8,5)\n",
        "Wi = torch.randn(8,5)\n",
        "Wc = torch.randn(8,5)\n",
        "Wo = torch.randn(8,5)\n",
        "\n",
        "f = torch.sigmoid(concat @ Wf)\n",
        "i = torch.sigmoid(concat @ Wi)\n",
        "c_ = torch.sigmoid(concat @ Wc)\n",
        "o = torch.sigmoid(concat @ Wo)\n",
        "\n",
        "c = f * i * c_ * o\n",
        "h = o * torch.tanh(c)\n",
        "\n",
        "print(\"LSTM Hidden State Output:\",h)"
      ],
      "metadata": {
        "colab": {
          "base_uri": "https://localhost:8080/"
        },
        "id": "d4bTZ5cf1Z9N",
        "outputId": "6c72a60d-00eb-4b98-8210-ed4f34531f4f"
      },
      "execution_count": 44,
      "outputs": [
        {
          "output_type": "stream",
          "name": "stdout",
          "text": [
            "LSTM Hidden State Output: tensor([[0.0006, 0.0009, 0.0053, 0.0039, 0.3194]])\n"
          ]
        }
      ]
    }
  ]
}