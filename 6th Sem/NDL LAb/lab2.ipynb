{
 "cells": [
  {
   "cell_type": "markdown",
   "metadata": {},
   "source": [
    "## Hebbian Algorithm"
   ]
  },
  {
   "cell_type": "code",
   "execution_count": 10,
   "metadata": {},
   "outputs": [],
   "source": [
    "import numpy as np"
   ]
  },
  {
   "cell_type": "code",
   "execution_count": 9,
   "metadata": {},
   "outputs": [
    {
     "name": "stdout",
     "output_type": "stream",
     "text": [
      "Learned Weights:  [8.86642975e+15 5.31985785e+15 3.54657190e+15]\n"
     ]
    }
   ],
   "source": [
    "class Neuron:\n",
    "    def __init__(self,num_inputs):\n",
    "        self.weights = np.random.rand(num_inputs)\n",
    "    def active(self,inputs):\n",
    "        weighted_sum = np.dot(inputs,self.weights)\n",
    "        return weighted_sum\n",
    "    def learn_hebbian(self,inputs,learning_rate):\n",
    "        activation = self.active(inputs)\n",
    "        self.weights += learning_rate * activation * inputs\n",
    "    \n",
    "if __name__ == \"__main__\":\n",
    "    num_inputs = 3\n",
    "    neuron = Neuron(num_inputs)\n",
    "    inputs = np.array([0.5,0.3,0.2])\n",
    "    learning_rate = 0.1\n",
    "    num_iterations = 1000\n",
    "    for i in range(num_iterations):\n",
    "        neuron.learn_hebbian(inputs,learning_rate)\n",
    "    print(\"Learned Weights: \",neuron.weights)"
   ]
  }
 ],
 "metadata": {
  "kernelspec": {
   "display_name": "Python 3",
   "language": "python",
   "name": "python3"
  },
  "language_info": {
   "codemirror_mode": {
    "name": "ipython",
    "version": 3
   },
   "file_extension": ".py",
   "mimetype": "text/x-python",
   "name": "python",
   "nbconvert_exporter": "python",
   "pygments_lexer": "ipython3",
   "version": "3.12.0"
  }
 },
 "nbformat": 4,
 "nbformat_minor": 2
}
