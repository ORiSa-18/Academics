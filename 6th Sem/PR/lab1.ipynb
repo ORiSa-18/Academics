{
 "cells": [
  {
   "cell_type": "markdown",
   "metadata": {},
   "source": [
    "## Train a neuron to learn the AND pattern classification problem using Perceptron Learning."
   ]
  },
  {
   "cell_type": "code",
   "execution_count": 7,
   "metadata": {},
   "outputs": [],
   "source": [
    "import numpy as np"
   ]
  },
  {
   "cell_type": "markdown",
   "metadata": {},
   "source": [
    "Create a Neuron Class"
   ]
  },
  {
   "cell_type": "code",
   "execution_count": 28,
   "metadata": {},
   "outputs": [],
   "source": [
    "class Neuron:\n",
    "    def __init__(self,learning_rate,epochs):\n",
    "        self.weights = np.random.rand(2)\n",
    "        self.bias = np.random.rand(1)\n",
    "        self.learning_rate = learning_rate\n",
    "    def step_function(self,x):\n",
    "        return 1 if x >= 0 else 0\n",
    "    \n",
    "    def train(self,train_inputs,train_outputs,epochs):\n",
    "        for epoch in range(epochs):\n",
    "            for i in range(train_inputs.shape[0]):\n",
    "                net_input = np.dot(train_inputs[i], self.weights) + self.bias\n",
    "                output = self.step_function(net_input)\n",
    "                error = train_outputs[i] - output\n",
    "                self.weights += self.learning_rate * error * train_inputs[i]\n",
    "                self.bias += self.learning_rate * error\n",
    "        self.output(train_inputs,train_outputs)\n",
    "\n",
    "    def output(self,train_inputs,train_outputs):\n",
    "        print(\"Weights:\", self.weights)\n",
    "        print(\"Bias:\", self.bias)\n",
    "        for i in range(train_inputs.shape[0]):\n",
    "            net_input = np.dot(train_inputs[i], self.weights) + self.bias\n",
    "            output = self.step_function(net_input)\n",
    "            print(f\"Input: {train_inputs[i]}, Predicted Output: {output}\")\n",
    "        "
   ]
  },
  {
   "cell_type": "markdown",
   "metadata": {},
   "source": [
    "Initialise{input,outpt,weights,learning rate, epochs}, create a neuron object and train the model"
   ]
  },
  {
   "cell_type": "code",
   "execution_count": 29,
   "metadata": {},
   "outputs": [
    {
     "name": "stdout",
     "output_type": "stream",
     "text": [
      "Weights: [0.36516285 0.43460237]\n",
      "Bias: [-0.55206029]\n",
      "Input: [0 0], Predicted Output: 0\n",
      "Input: [0 1], Predicted Output: 0\n",
      "Input: [1 0], Predicted Output: 0\n",
      "Input: [1 1], Predicted Output: 1\n"
     ]
    }
   ],
   "source": [
    "X = np.array([[0, 0], [0, 1], [1, 0], [1, 1]])\n",
    "y = np.array([0, 0, 0, 1])\n",
    "\n",
    "w = np.random.rand(2)\n",
    "b = np.random.rand(1)\n",
    "learning_rate = 0.1\n",
    "epochs = 20\n",
    "neuron  = Neuron(learning_rate,epochs)\n",
    "neuron.train(X,y,epochs)"
   ]
  }
 ],
 "metadata": {
  "kernelspec": {
   "display_name": "Python 3",
   "language": "python",
   "name": "python3"
  },
  "language_info": {
   "codemirror_mode": {
    "name": "ipython",
    "version": 3
   },
   "file_extension": ".py",
   "mimetype": "text/x-python",
   "name": "python",
   "nbconvert_exporter": "python",
   "pygments_lexer": "ipython3",
   "version": "3.13.1"
  }
 },
 "nbformat": 4,
 "nbformat_minor": 2
}
