{
 "cells": [
  {
   "cell_type": "markdown",
   "metadata": {},
   "source": [
    "Match the given input patterns using RE"
   ]
  },
  {
   "cell_type": "code",
   "execution_count": 6,
   "metadata": {},
   "outputs": [],
   "source": [
    "import re"
   ]
  },
  {
   "cell_type": "code",
   "execution_count": 13,
   "metadata": {},
   "outputs": [
    {
     "name": "stdout",
     "output_type": "stream",
     "text": [
      "<re.Match object; span=(1, 3), match='ai'>\n",
      "<re.Match object; span=(616, 618), match='ai'>\n",
      "<re.Match object; span=(688, 690), match='ai'>\n",
      "<re.Match object; span=(718, 720), match='ai'>\n",
      "<re.Match object; span=(726, 728), match='ai'>\n",
      "<re.Match object; span=(806, 808), match='ai'>\n",
      "<re.Match object; span=(1005, 1007), match='ai'>\n",
      "<re.Match object; span=(1311, 1313), match='ai'>\n"
     ]
    }
   ],
   "source": [
    "\n",
    "\n",
    "txt = \"\"\"\n",
    "aif Ali Khan (pronounced [ˈsæːf əˈli xaːn]; born Sajid Ali Khan Pataudi; 16 August 1970)[1] is an Indian actor and film producer who primarily works in Hindi and Telugu films The current head of the Pataudi family and the 10th titular Nawab of Pataudi[2], he is the son of actress Sharmila Tagore and cricketer Mansoor Ali Khan Pataudi. Khan has won several awards, including a National Film Award and seven Filmfare Awards, and received the Padma Shri, the fourth highest Indian civilian award in 2010.[3]\n",
    "\n",
    "Khan made his acting debut in Parampara (1993), and had success in the multi-starrers Yeh Dillagi (1994), Main Khiladi Tu Anari (1994), Kachche Dhaage (1999) and Hum Saath-Saath Hain (1999). In the 2000s, he gained praise and won multiple awards for his roles in the romantic comedies Dil Chahta Hai (2001) and Kal Ho Naa Ho (2003), and had success as a solo male star in the romances Hum Tum (2004), Parineeta, Salaam Namaste (both 2005) and Ta Ra Rum Pum (2007).\n",
    "\n",
    "Khan also earned critical acclaim for playing a manipulative businessman in Ek Hasina Thi (2004), an apprentice in the English film Being Cyrus (2006) and the Iago character in Omkara (2006). He had further commercial success in the action thrillers Race (2008) and Race 2 (2013), and the romantic comedies Love Aaj Kal (2009) and Cocktail (2012). Between another string of under-performing ventures, Khan was appreciated for headlining Netflix's first original Indian series Sacred Games (2018–2019) and had his highest-grossing releases in the action films Tanhaji (2020) and Devara: Part 1 (2024).\n",
    "\n",
    "Khan has been noted for his roles in a range of film genres—from crime dramas to action thrillers and comic romances. In addition to film acting, Khan is a frequent television presenter, stage show performer, and the owner of the production companies Illuminati Films and Black Knight Films. \n",
    "\"\"\"\n",
    "pattern = r'ai'\n",
    "matches = re.finditer(pattern,txt)\n",
    "for match in matches:\n",
    "    print(match)"
   ]
  },
  {
   "cell_type": "code",
   "execution_count": 1,
   "metadata": {},
   "outputs": [],
   "source": [
    "import seaborn as sns\n",
    "import pandas as pd"
   ]
  },
  {
   "cell_type": "code",
   "execution_count": 2,
   "metadata": {},
   "outputs": [
    {
     "name": "stdout",
     "output_type": "stream",
     "text": [
      "   survived  pclass     sex   age  sibsp  parch     fare embarked  class  \\\n",
      "0         0       3    male  22.0      1      0   7.2500        S  Third   \n",
      "1         1       1  female  38.0      1      0  71.2833        C  First   \n",
      "2         1       3  female  26.0      0      0   7.9250        S  Third   \n",
      "3         1       1  female  35.0      1      0  53.1000        S  First   \n",
      "4         0       3    male  35.0      0      0   8.0500        S  Third   \n",
      "\n",
      "     who  adult_male deck  embark_town alive  alone  \n",
      "0    man        True  NaN  Southampton    no  False  \n",
      "1  woman       False    C    Cherbourg   yes  False  \n",
      "2  woman       False  NaN  Southampton   yes   True  \n",
      "3  woman       False    C  Southampton   yes  False  \n",
      "4    man        True  NaN  Southampton    no   True  \n"
     ]
    }
   ],
   "source": [
    "df = sns.load_dataset('titanic')\n",
    "print(df.head())"
   ]
  },
  {
   "cell_type": "code",
   "execution_count": null,
   "metadata": {},
   "outputs": [],
   "source": []
  }
 ],
 "metadata": {
  "kernelspec": {
   "display_name": "Python 3",
   "language": "python",
   "name": "python3"
  },
  "language_info": {
   "codemirror_mode": {
    "name": "ipython",
    "version": 3
   },
   "file_extension": ".py",
   "mimetype": "text/x-python",
   "name": "python",
   "nbconvert_exporter": "python",
   "pygments_lexer": "ipython3",
   "version": "3.13.1"
  }
 },
 "nbformat": 4,
 "nbformat_minor": 2
}
