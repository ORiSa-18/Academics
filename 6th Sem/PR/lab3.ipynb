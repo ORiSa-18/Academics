{
 "cells": [
  {
   "cell_type": "markdown",
   "metadata": {},
   "source": [
    "## Compute Mahalanobis Distance Between Polygons"
   ]
  },
  {
   "cell_type": "code",
   "execution_count": 1,
   "metadata": {},
   "outputs": [],
   "source": [
    "import numpy as np"
   ]
  },
  {
   "cell_type": "markdown",
   "metadata": {},
   "source": [
    "Define Mahalanobis Distance function"
   ]
  },
  {
   "cell_type": "code",
   "execution_count": 17,
   "metadata": {},
   "outputs": [],
   "source": [
    "def mahalanobis(polyA,polyB):\n",
    "    def centroid(poly):\n",
    "        x,y=0,0\n",
    "        for i,j in poly:\n",
    "            x+=i\n",
    "            y+=i\n",
    "        x,y = x/len(poly) , y/len(poly)\n",
    "        return np.array([x,y])\n",
    "    centroid1 = centroid(polyA)\n",
    "    centroid2 = centroid(polyB)\n",
    "    term = ((centroid1[0] - centroid2[1])**2)+((centroid1[0] - centroid1[1])**2)\n",
    "    return np.sqrt(term)"
   ]
  },
  {
   "cell_type": "markdown",
   "metadata": {},
   "source": [
    "Initialise data and call Mahalanobis Distance function"
   ]
  },
  {
   "cell_type": "code",
   "execution_count": 20,
   "metadata": {},
   "outputs": [
    {
     "name": "stdout",
     "output_type": "stream",
     "text": [
      "Mahalanobis Distance 0.75\n"
     ]
    }
   ],
   "source": [
    "polygon_A = np.array([\n",
    "    [1,2],\n",
    "    [4, 5],\n",
    "    [6, 7],\n",
    "    [8, 9]\n",
    "])\n",
    "polygon_B = np.array([\n",
    "    [1, 2],\n",
    "    [3, 4],\n",
    "    [5, 6],\n",
    "    [7, 8]\n",
    "])\n",
    "print(\"Mahalanobis Distance\",mahalanobis(polygon_A,polygon_B))"
   ]
  }
 ],
 "metadata": {
  "kernelspec": {
   "display_name": "Python 3",
   "language": "python",
   "name": "python3"
  },
  "language_info": {
   "codemirror_mode": {
    "name": "ipython",
    "version": 3
   },
   "file_extension": ".py",
   "mimetype": "text/x-python",
   "name": "python",
   "nbconvert_exporter": "python",
   "pygments_lexer": "ipython3",
   "version": "3.13.1"
  }
 },
 "nbformat": 4,
 "nbformat_minor": 2
}
